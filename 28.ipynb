{
 "cells": [
  {
   "cell_type": "code",
   "execution_count": null,
   "id": "5200861d",
   "metadata": {},
   "outputs": [],
   "source": [
    "def star(n):\n",
    "    j=[]\n",
    "    for i in range(n):\n",
    "        j.append(' '*(n-i-1)+'*'*(2*i+1)+' '*(n-i-1))\n",
    "    for i in range(n-1):\n",
    "        j.append(' '*(i+1) + '*'*(2*(n-1-i)-1) + ' '*(i+1))\n",
    "    return j\n",
    "    \n",
    "print(star(3))"
   ]
  }
 ],
 "metadata": {
  "language_info": {
   "name": "python"
  }
 },
 "nbformat": 4,
 "nbformat_minor": 5
}
