{
 "cells": [
  {
   "cell_type": "code",
   "execution_count": null,
   "id": "0cf491e3",
   "metadata": {},
   "outputs": [],
   "source": [
    "def sum(n):\n",
    " num=0\n",
    " for i in range(len(n)):\n",
    "    num=num+i\n",
    " return num\n",
    "print(sum([1,2,3,4]))"
   ]
  }
 ],
 "metadata": {
  "language_info": {
   "name": "python"
  }
 },
 "nbformat": 4,
 "nbformat_minor": 5
}
