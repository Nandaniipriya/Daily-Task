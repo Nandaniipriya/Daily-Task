{
 "cells": [
  {
   "cell_type": "code",
   "execution_count": null,
   "id": "c34f9c0b",
   "metadata": {},
   "outputs": [],
   "source": [
    "def star(n):\n",
    "    j=[]\n",
    "    j.append('*'*n)\n",
    "    for i in range(n-3):\n",
    "        j.append('*'+' '*(n-i-3)+'*')\n",
    "    j.append(('**'))\n",
    "    j.append('*')\n",
    "    return j\n",
    "    \n",
    "print(star(5))\n",
    "    "
   ]
  }
 ],
 "metadata": {
  "language_info": {
   "name": "python"
  }
 },
 "nbformat": 4,
 "nbformat_minor": 5
}
