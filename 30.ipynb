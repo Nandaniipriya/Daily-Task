{
 "cells": [
  {
   "cell_type": "code",
   "execution_count": null,
   "id": "d790c054",
   "metadata": {},
   "outputs": [],
   "source": [
    "def star(n):\n",
    "    jn=[]\n",
    "    for i in range (n):\n",
    "        spaces=' '*(n-i-1)\n",
    "        j=[]\n",
    "        for k in range (i+1):\n",
    "            j.append(str(k+1))\n",
    "        numbers=' '.join(j)\n",
    "        jn.append(spaces+str(numbers)+spaces)\n",
    "     \n",
    "    return jn\n",
    "print(star(3))"
   ]
  }
 ],
 "metadata": {
  "language_info": {
   "name": "python"
  }
 },
 "nbformat": 4,
 "nbformat_minor": 5
}
