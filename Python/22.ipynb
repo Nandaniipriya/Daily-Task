{
 "cells": [
  {
   "cell_type": "code",
   "execution_count": 1,
   "metadata": {},
   "outputs": [
    {
     "name": "stdout",
     "output_type": "stream",
     "text": [
      "Model Accuracy: 50.00%\n",
      "Sentiment for custom review: negative\n"
     ]
    }
   ],
   "source": [
    "from sklearn.feature_extraction.text import CountVectorizer\n",
    "from sklearn.naive_bayes import MultinomialNB\n",
    "from sklearn.metrics import accuracy_score\n",
    "\n",
    "# Custom dataset: texts and labels\n",
    "texts = [\n",
    "    \"I love this movie, it is amazing!\",  # Positive\n",
    "    \"What a fantastic experience, truly enjoyed it!\",  # Positive\n",
    "    \"This is the worst film I have ever seen.\",  # Negative\n",
    "    \"Absolutely terrible, I hated it.\",  # Negative\n",
    "    \"Not bad, but could have been better.\",  # Neutral/Positive\n",
    "    \"The story was boring and dull.\",  # Negative\n",
    "]\n",
    "\n",
    "labels = [\"positive\", \"positive\", \"negative\", \"negative\", \"positive\", \"negative\"]\n",
    "\n",
    "# Split into training and test sets\n",
    "train_texts = texts[:4]  # First 4 for training\n",
    "test_texts = texts[4:]   # Last 2 for testing\n",
    "train_labels = labels[:4]\n",
    "test_labels = labels[4:]\n",
    "\n",
    "# Convert text to numerical features using CountVectorizer\n",
    "vectorizer = CountVectorizer()\n",
    "X_train = vectorizer.fit_transform(train_texts)  # Fit and transform training data\n",
    "X_test = vectorizer.transform(test_texts)        # Transform test data\n",
    "\n",
    "# Train a Naive Bayes classifier\n",
    "classifier = MultinomialNB()\n",
    "classifier.fit(X_train, train_labels)\n",
    "\n",
    "# Make predictions on the test set\n",
    "predictions = classifier.predict(X_test)\n",
    "\n",
    "# Evaluate the model\n",
    "accuracy = accuracy_score(test_labels, predictions)\n",
    "print(f\"Model Accuracy: {accuracy * 100:.2f}%\")\n",
    "\n",
    "# Test with a custom input\n",
    "custom_review = [\"I found the movie quite enjoyable and engaging.\"]\n",
    "custom_features = vectorizer.transform(custom_review)\n",
    "custom_prediction = classifier.predict(custom_features)\n",
    "print(f\"Sentiment for custom review: {custom_prediction[0]}\")\n"
   ]
  },
  {
   "cell_type": "code",
   "execution_count": null,
   "metadata": {},
   "outputs": [],
   "source": []
  },
  {
   "cell_type": "code",
   "execution_count": null,
   "metadata": {},
   "outputs": [],
   "source": []
  }
 ],
 "metadata": {
  "kernelspec": {
   "display_name": "Python 3",
   "language": "python",
   "name": "python3"
  },
  "language_info": {
   "codemirror_mode": {
    "name": "ipython",
    "version": 3
   },
   "file_extension": ".py",
   "mimetype": "text/x-python",
   "name": "python",
   "nbconvert_exporter": "python",
   "pygments_lexer": "ipython3",
   "version": "3.12.1"
  }
 },
 "nbformat": 4,
 "nbformat_minor": 2
}
