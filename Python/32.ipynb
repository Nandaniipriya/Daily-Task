{
 "cells": [
  {
   "cell_type": "code",
   "execution_count": null,
   "id": "700fce9d",
   "metadata": {},
   "outputs": [],
   "source": [
    "#day 32\n",
    "## python question\n",
    "def rotate(lst,k):\n",
    "    result=[]\n",
    "    n=len(lst)\n",
    "    for i in range(n-k,n):\n",
    "        result.append (lst[i])\n",
    "    for j in range(n-k):\n",
    "        result.append (lst[j])\n",
    "    return result\n",
    "print(rotate([10,20,30,40,50],2))"
   ]
  }
 ],
 "metadata": {
  "language_info": {
   "name": "python"
  }
 },
 "nbformat": 4,
 "nbformat_minor": 5
}
