{
 "cells": [
  {
   "cell_type": "code",
   "execution_count": null,
   "id": "88449590",
   "metadata": {},
   "outputs": [],
   "source": [
    "#43 question"
   ]
  }
 ],
 "metadata": {
  "language_info": {
   "name": "python"
  }
 },
 "nbformat": 4,
 "nbformat_minor": 5
}
