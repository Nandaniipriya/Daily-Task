{
 "cells": [
  {
   "cell_type": "code",
   "execution_count": null,
   "id": "88449590",
   "metadata": {},
   "outputs": [],
   "source": [
    "#43 question\n",
    "def missingnumber(nums):\n",
    "    nums.sort()\n",
    "    expected=0\n",
    "    for num in nums:\n",
    "        if expected!=num:\n",
    "            return expected\n",
    "        expected+=1\n",
    "    return expected\n"
   ]
  }
 ],
 "metadata": {
  "language_info": {
   "name": "python"
  }
 },
 "nbformat": 4,
 "nbformat_minor": 5
}
