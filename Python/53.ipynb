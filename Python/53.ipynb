{
 "cells": [
  {
   "cell_type": "code",
   "execution_count": null,
   "id": "21cecedf",
   "metadata": {},
   "outputs": [],
   "source": [
    "#code 53\n",
    "#recursion"
   ]
  }
 ],
 "metadata": {
  "language_info": {
   "name": "python"
  }
 },
 "nbformat": 4,
 "nbformat_minor": 5
}
