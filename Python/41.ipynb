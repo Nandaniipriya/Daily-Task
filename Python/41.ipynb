{
 "cells": [
  {
   "cell_type": "code",
   "execution_count": null,
   "id": "835f0504",
   "metadata": {},
   "outputs": [],
   "source": [
    "def palindrome(lst):\n",
    " if lst==lst[::-1]:\n",
    "   return True\n",
    " return False\n",
    " \n",
    "print(palindrome([7, 8, 9, 8, 7]))"
   ]
  }
 ],
 "metadata": {
  "language_info": {
   "name": "python"
  }
 },
 "nbformat": 4,
 "nbformat_minor": 5
}
