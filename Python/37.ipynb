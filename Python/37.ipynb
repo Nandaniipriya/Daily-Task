{
 "cells": [
  {
   "cell_type": "code",
   "execution_count": null,
   "id": "cacac5ae",
   "metadata": {},
   "outputs": [],
   "source": [
    "def vowels(s):\n",
    "   vowels=\"aeiouAEIOU\"\n",
    "   count=0\n",
    "   for i in s:\n",
    "     if i in vowels:\n",
    "       count+=1\n",
    "   return count\n",
    "print(vowels(\"hello world\"))\n"
   ]
  },
  {
   "cell_type": "code",
   "execution_count": null,
   "id": "20c6680a",
   "metadata": {},
   "outputs": [],
   "source": [
    "def same_string(s,t):\n",
    "   for i in range(min(len(s), len(t))):\n",
    "     if s[i]!=t[i]:\n",
    "      return False\n",
    "   return True\n",
    "print(same_string(\"hello\",\"helio\"))"
   ]
  }
 ],
 "metadata": {
  "language_info": {
   "name": "python"
  }
 },
 "nbformat": 4,
 "nbformat_minor": 5
}
