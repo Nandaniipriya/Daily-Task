{
 "cells": [
  {
   "cell_type": "code",
   "execution_count": null,
   "id": "cacac5ae",
   "metadata": {},
   "outputs": [],
   "source": [
    "def vowels(s):\n",
    "   vowels=\"aeiouAEIOU\"\n",
    "   count=0\n",
    "   for i in s:\n",
    "     if i in vowels:\n",
    "       count+=1\n",
    "   return count\n",
    "print(vowels(\"hello world\"))\n"
   ]
  }
 ],
 "metadata": {
  "language_info": {
   "name": "python"
  }
 },
 "nbformat": 4,
 "nbformat_minor": 5
}
