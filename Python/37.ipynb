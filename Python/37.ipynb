{
 "cells": [
  {
   "cell_type": "code",
   "execution_count": null,
   "id": "cacac5ae",
   "metadata": {},
   "outputs": [],
   "source": [
    "def vowels(s):\n",
    "   vowels=\"aeiouAEIOU\"\n",
    "   count=0\n",
    "   for i in s:\n",
    "     if i in vowels:\n",
    "       count+=1\n",
    "   return count\n",
    "print(vowels(\"hello world\"))\n"
   ]
  },
  {
   "cell_type": "code",
   "execution_count": null,
   "id": "20c6680a",
   "metadata": {},
   "outputs": [],
   "source": [
    "def same_string(s,t):\n",
    "   for i in range(min(len(s), len(t))):\n",
    "     if s[i]!=t[i]:\n",
    "      return False\n",
    "   return True\n",
    "print(same_string(\"hello\",\"helio\"))"
   ]
  },
  {
   "cell_type": "code",
   "execution_count": null,
   "id": "6ba53537",
   "metadata": {},
   "outputs": [],
   "source": [
    "def count_words(s):\n",
    "   str=s.split()\n",
    "   count=(len(str))\n",
    "   return count\n",
    "   \n",
    "print(count_words(\"hello world great love\"))"
   ]
  },
  {
   "cell_type": "code",
   "execution_count": null,
   "id": "c89403aa",
   "metadata": {},
   "outputs": [],
   "source": [
    "def duplicates(s):\n",
    "  j=[]\n",
    "  for i in s:\n",
    "   if i in j:\n",
    "    pass\n",
    "   else:\n",
    "    j.append(i)\n",
    "   s=''.join(j)\n",
    "  return s\n",
    "print(duplicates(\"programming\"))"
   ]
  },
  {
   "cell_type": "code",
   "execution_count": null,
   "id": "d9d74c9c",
   "metadata": {},
   "outputs": [],
   "source": [
    "def anagram(s,t):\n",
    "  for i in s:\n",
    "    if i not in t:\n",
    "     return False\n",
    "  return True\n",
    "print(anagram(\"hello\",\"esllo\"))"
   ]
  },
  {
   "cell_type": "code",
   "execution_count": null,
   "id": "c4804956",
   "metadata": {},
   "outputs": [],
   "source": [
    "def subsequence(s,t):\n",
    "  for i in t:\n",
    "    if i in s:\n",
    "     return True\n",
    "  return False\n",
    "print(subsequence(\"hello\",\"stm\"))"
   ]
  }
 ],
 "metadata": {
  "language_info": {
   "name": "python"
  }
 },
 "nbformat": 4,
 "nbformat_minor": 5
}
