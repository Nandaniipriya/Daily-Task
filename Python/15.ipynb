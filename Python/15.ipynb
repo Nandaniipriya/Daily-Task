{
 "cells": [
  {
   "cell_type": "markdown",
   "metadata": {},
   "source": [
    "### Question:\n",
    "Write a function to apply Min-Max Scaling to normalize a dataset. The function should scale the features between 0 and 1."
   ]
  },
  {
   "cell_type": "code",
   "execution_count": 1,
   "metadata": {},
   "outputs": [],
   "source": [
    "import numpy as np\n"
   ]
  },
  {
   "cell_type": "code",
   "execution_count": 2,
   "metadata": {},
   "outputs": [],
   "source": [
    "def min_max_scaling(data):\n",
    "    \"\"\"\n",
    "    Apply Min-Max Scaling to normalize the dataset.\n",
    "    The function scales the features between 0 and 1.\n",
    "    \n",
    "    Parameters:\n",
    "    - data: 2D numpy array or a list of lists representing the dataset\n",
    "    \n",
    "    Returns:\n",
    "    - Scaled data as a 2D numpy array with values between 0 and 1\n",
    "    \"\"\"\n",
    "    # Convert data to a numpy array if it's not already\n",
    "    data = np.array(data)\n",
    "    \n",
    "    # Calculate the min and max of each column (feature)\n",
    "    min_vals = np.min(data, axis=0)\n",
    "    max_vals = np.max(data, axis=0)\n",
    "    \n",
    "    # Apply the Min-Max scaling formula\n",
    "    scaled_data = (data - min_vals) / (max_vals - min_vals)\n",
    "    \n",
    "    return scaled_data\n"
   ]
  },
  {
   "cell_type": "code",
   "execution_count": 3,
   "metadata": {},
   "outputs": [],
   "source": [
    "data = np.array([[2, 4, 6], \n",
    "                 [8, 10, 12], \n",
    "                 [3, 5, 7], \n",
    "                 [5, 7, 9]])"
   ]
  },
  {
   "cell_type": "code",
   "execution_count": 5,
   "metadata": {},
   "outputs": [
    {
     "name": "stdout",
     "output_type": "stream",
     "text": [
      "Original Data:\n",
      "[[ 2  4  6]\n",
      " [ 8 10 12]\n",
      " [ 3  5  7]\n",
      " [ 5  7  9]]\n",
      "\n",
      "Scaled Data:\n",
      "[[0.         0.         0.        ]\n",
      " [1.         1.         1.        ]\n",
      " [0.16666667 0.16666667 0.16666667]\n",
      " [0.5        0.5        0.5       ]]\n"
     ]
    }
   ],
   "source": [
    "scaled_data = min_max_scaling(data)\n",
    "print(\"Original Data:\")\n",
    "print(data)\n",
    "print(\"\\nScaled Data:\")\n",
    "print(scaled_data)"
   ]
  },
  {
   "cell_type": "code",
   "execution_count": null,
   "metadata": {},
   "outputs": [],
   "source": []
  }
 ],
 "metadata": {
  "kernelspec": {
   "display_name": "Python 3",
   "language": "python",
   "name": "python3"
  },
  "language_info": {
   "codemirror_mode": {
    "name": "ipython",
    "version": 3
   },
   "file_extension": ".py",
   "mimetype": "text/x-python",
   "name": "python",
   "nbconvert_exporter": "python",
   "pygments_lexer": "ipython3",
   "version": "3.12.1"
  }
 },
 "nbformat": 4,
 "nbformat_minor": 2
}
