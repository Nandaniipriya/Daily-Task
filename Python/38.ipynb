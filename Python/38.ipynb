{
 "cells": [
  {
   "cell_type": "code",
   "execution_count": null,
   "id": "29ceb41f",
   "metadata": {},
   "outputs": [],
   "source": [
    "def bubble_sort(arr):\n",
    "   n=len(arr)\n",
    "   for i in range(n-1):\n",
    "     for j in range(n-1-i):\n",
    "       if (arr[j]>arr[j+1]):\n",
    "         arr[j],arr[j+1]=arr[j+1],arr[j]\n",
    "   return arr\n",
    "   \n",
    "print(bubble_sort([6,5,4,3,2,1]))"
   ]
  }
 ],
 "metadata": {
  "language_info": {
   "name": "python"
  }
 },
 "nbformat": 4,
 "nbformat_minor": 5
}
