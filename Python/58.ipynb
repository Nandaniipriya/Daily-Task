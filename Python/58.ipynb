{
 "cells": [
  {
   "cell_type": "code",
   "execution_count": null,
   "id": "a8f0dfb2",
   "metadata": {},
   "outputs": [],
   "source": [
    "#day 59\n",
    "#dsa"
   ]
  }
 ],
 "metadata": {
  "language_info": {
   "name": "python"
  }
 },
 "nbformat": 4,
 "nbformat_minor": 5
}
