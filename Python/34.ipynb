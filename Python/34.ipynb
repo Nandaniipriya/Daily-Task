{
 "cells": [
  {
   "cell_type": "code",
   "execution_count": null,
   "id": "775f6360",
   "metadata": {},
   "outputs": [],
   "source": [
    "def merge(dict1, dict2, dict3):\n",
    "    for i,j in dict1.items():\n",
    "        dict2[i]=j\n",
    "    for i,j in dict3.items():\n",
    "        dict2[i]=j\n",
    "    return dict2\n",
    "    \n",
    "dict1={'a': 1, 'b': 2} \n",
    "dict2={'c': 3, 'd': 4}\n",
    "dict3={'e': 5, 'f': 6}\n",
    "print(merge(dict1,dict2,dict3))"
   ]
  }
 ],
 "metadata": {
  "language_info": {
   "name": "python"
  }
 },
 "nbformat": 4,
 "nbformat_minor": 5
}
