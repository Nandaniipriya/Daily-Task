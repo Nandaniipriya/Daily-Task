{
 "cells": [
  {
   "cell_type": "code",
   "execution_count": null,
   "id": "d30026eb",
   "metadata": {},
   "outputs": [],
   "source": [
    "#code\n",
    "#question"
   ]
  }
 ],
 "metadata": {
  "language_info": {
   "name": "python"
  }
 },
 "nbformat": 4,
 "nbformat_minor": 5
}
