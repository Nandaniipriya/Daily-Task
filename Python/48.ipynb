{
 "cells": [
  {
   "cell_type": "code",
   "execution_count": null,
   "id": "adb5e958",
   "metadata": {},
   "outputs": [],
   "source": [
    "#code 48"
   ]
  }
 ],
 "metadata": {
  "language_info": {
   "name": "python"
  }
 },
 "nbformat": 4,
 "nbformat_minor": 5
}
