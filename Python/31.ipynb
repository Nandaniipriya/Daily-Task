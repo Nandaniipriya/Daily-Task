{
 "cells": [
  {
   "cell_type": "code",
   "execution_count": null,
   "id": "68f05b84",
   "metadata": {},
   "outputs": [],
   "source": [
    "def star(lst):\n",
    "    even=0\n",
    "    odd=0\n",
    "    for i in lst:\n",
    "        if i % 2 == 0:\n",
    "           even=even+1\n",
    "        else:\n",
    "           odd=odd+1\n",
    "    return even,odd\n",
    "\n",
    "print(star([2, 5, 6]))"
   ]
  }
 ],
 "metadata": {
  "language_info": {
   "name": "python"
  }
 },
 "nbformat": 4,
 "nbformat_minor": 5
}
