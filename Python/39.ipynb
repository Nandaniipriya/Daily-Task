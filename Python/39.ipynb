{
 "cells": [
  {
   "cell_type": "code",
   "execution_count": null,
   "id": "eda4e88a",
   "metadata": {},
   "outputs": [],
   "source": [
    "def binary_search(arr,target):\n",
    "  size=len(arr)\n",
    "  start=0\n",
    "  end=size-1\n",
    "  while start<=end:\n",
    "   mid=(start+end)//2\n",
    "   if (arr[mid]==target):\n",
    "     return str(arr[mid+1])\n",
    "   elif (arr[mid]>target):\n",
    "     end=mid-1\n",
    "   elif (arr[mid]<target):\n",
    "     start=mid+1\n",
    "  return arr[0]\n",
    "print(binary_search(['c', 'f', 'j'], 'k'))"
   ]
  }
 ],
 "metadata": {
  "language_info": {
   "name": "python"
  }
 },
 "nbformat": 4,
 "nbformat_minor": 5
}
