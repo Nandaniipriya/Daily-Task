{
 "cells": [
  {
   "cell_type": "code",
   "execution_count": null,
   "id": "a8ae3064",
   "metadata": {},
   "outputs": [],
   "source": [
    "def merge(lst1,lst2):\n",
    "    dict={}\n",
    "    for i in range(len(lst1)):\n",
    "        dict[lst1[i]]=lst2[i]\n",
    "    return dict\n",
    "\n",
    "lst1 = ['a', 'b', 'c']\n",
    "lst2 = [1, 2, 3]\n",
    "print(merge(lst1,lst2))"
   ]
  }
 ],
 "metadata": {
  "language_info": {
   "name": "python"
  }
 },
 "nbformat": 4,
 "nbformat_minor": 5
}
