{
 "cells": [
  {
   "cell_type": "code",
   "execution_count": null,
   "id": "b908d141",
   "metadata": {},
   "outputs": [],
   "source": [
    "#day 35\n",
    "def merge(sentence):\n",
    "    words=sentence.split()\n",
    "    dict={}\n",
    "    for i in range (len(words)):\n",
    "        if words[i] in dict:\n",
    "            dict[words[i]]=dict[words[i]]+1\n",
    "        else:\n",
    "            dict[words[i]]=1\n",
    "    return dict\n",
    "    \n",
    "sentence=\"hello world hello\"\n",
    "words=sentence.split()\n",
    "print(merge(sentence))"
   ]
  }
 ],
 "metadata": {
  "language_info": {
   "name": "python"
  }
 },
 "nbformat": 4,
 "nbformat_minor": 5
}
