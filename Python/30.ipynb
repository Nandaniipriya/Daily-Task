{
 "cells": [
  {
   "cell_type": "code",
   "execution_count": null,
   "id": "d790c054",
   "metadata": {},
   "outputs": [],
   "source": [
    "def star(n):\n",
    "    jn=[]\n",
    "    for i in range (n):\n",
    "        spaces=' '*(n-i-1)\n",
    "        j=[]\n",
    "        for k in range (i+1):\n",
    "            j.append(str(k+1))\n",
    "        numbers=' '.join(j)\n",
    "        jn.append(spaces+str(numbers)+spaces)\n",
    "     \n",
    "    return jn\n",
    "print(star(3))"
   ]
  },
  {
   "cell_type": "code",
   "execution_count": null,
   "id": "ca0b95a8",
   "metadata": {},
   "outputs": [],
   "source": [
    "def star(n,c):\n",
    "    "
   ]
  }
 ],
 "metadata": {
  "language_info": {
   "name": "python"
  }
 },
 "nbformat": 4,
 "nbformat_minor": 5
}
