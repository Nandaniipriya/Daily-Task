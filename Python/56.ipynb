{
 "cells": [
  {
   "cell_type": "code",
   "execution_count": null,
   "id": "b4bf9aeb",
   "metadata": {},
   "outputs": [],
   "source": [
    "#day 56\n",
    "#day 57\n",
    "#day 58\n"
   ]
  }
 ],
 "metadata": {
  "language_info": {
   "name": "python"
  }
 },
 "nbformat": 4,
 "nbformat_minor": 5
}
