{
 "cells": [
  {
   "cell_type": "code",
   "execution_count": null,
   "id": "2c65d5a7",
   "metadata": {},
   "outputs": [],
   "source": [
    "def square_root(num):\n",
    "   sqrt=num**0.5\n",
    "   for i in range(num):\n",
    "      if num%sqrt==0:\n",
    "       return True\n",
    "      else:\n",
    "       return False\n",
    "   \n",
    "     \n",
    "print(square_root(7))"
   ]
  }
 ],
 "metadata": {
  "language_info": {
   "name": "python"
  }
 },
 "nbformat": 4,
 "nbformat_minor": 5
}
