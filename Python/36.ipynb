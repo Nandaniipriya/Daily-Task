{
 "cells": [
  {
   "cell_type": "code",
   "execution_count": null,
   "id": "2c65d5a7",
   "metadata": {},
   "outputs": [],
   "source": [
    "def square_root(num):\n",
    "   sqrt=num**0.5\n",
    "   for i in range(num):\n",
    "      if num%sqrt==0:\n",
    "       return True\n",
    "      else:\n",
    "       return False\n",
    "   \n",
    "     \n",
    "print(square_root(7))"
   ]
  },
  {
   "cell_type": "code",
   "execution_count": null,
   "id": "2c654f7e",
   "metadata": {},
   "outputs": [],
   "source": [
    "def reverse(s):\n",
    "   for i in s:\n",
    "     reverse_string=s[::-1]\n",
    "   return reverse_string\n",
    "print (reverse(\"hello\"))"
   ]
  }
 ],
 "metadata": {
  "language_info": {
   "name": "python"
  }
 },
 "nbformat": 4,
 "nbformat_minor": 5
}
