{
 "cells": [
  {
   "cell_type": "code",
   "execution_count": null,
   "id": "79bc6b1b",
   "metadata": {},
   "outputs": [],
   "source": [
    "def rotate(arr,d):\n",
    "   n=len(arr)\n",
    "   lst=[]\n",
    "   for i in range(d,n):\n",
    "     lst.append(arr[i])\n",
    "   for i in range(d):\n",
    "     lst.append(arr[i])\n",
    "   return lst\n",
    "   \n",
    "print(rotate([1,2,3,4,5],2))\n",
    "   "
   ]
  }
 ],
 "metadata": {
  "language_info": {
   "name": "python"
  }
 },
 "nbformat": 4,
 "nbformat_minor": 5
}
