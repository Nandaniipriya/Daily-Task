{
 "cells": [
  {
   "cell_type": "code",
   "execution_count": null,
   "id": "3ca82671",
   "metadata": {},
   "outputs": [],
   "source": [
    "def star(n):\n",
    "    square=[]\n",
    "    for i in range(n):\n",
    "        square.append((i+1)*str(i+1))\n",
    "    return square\n",
    "    \n",
    "print(star(4))"
   ]
  },
  {
   "cell_type": "code",
   "execution_count": null,
   "id": "55ead493",
   "metadata": {},
   "outputs": [],
   "source": []
  }
 ],
 "metadata": {
  "language_info": {
   "name": "python"
  }
 },
 "nbformat": 4,
 "nbformat_minor": 5
}
